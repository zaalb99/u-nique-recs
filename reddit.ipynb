{
  "nbformat": 4,
  "nbformat_minor": 0,
  "metadata": {
    "colab": {
      "name": "reddit.ipynb",
      "provenance": [],
      "collapsed_sections": [],
      "toc_visible": true,
      "machine_shape": "hm"
    },
    "kernelspec": {
      "name": "python3",
      "display_name": "Python 3"
    },
    "language_info": {
      "name": "python"
    },
    "accelerator": "TPU"
  },
  "cells": [
    {
      "cell_type": "code",
      "metadata": {
        "id": "55qKB1fQcPr_"
      },
      "source": [
        "#This is the one day notebook"
      ],
      "execution_count": null,
      "outputs": []
    },
    {
      "cell_type": "code",
      "metadata": {
        "colab": {
          "base_uri": "https://localhost:8080/"
        },
        "id": "sfHxoJFecDYJ",
        "outputId": "65f0492a-f3b7-4996-80ff-273e100bce4d"
      },
      "source": [
        "from google.colab import drive\n",
        "drive.mount('/content/drive')"
      ],
      "execution_count": null,
      "outputs": [
        {
          "output_type": "stream",
          "text": [
            "Mounted at /content/drive\n"
          ],
          "name": "stdout"
        }
      ]
    },
    {
      "cell_type": "code",
      "metadata": {
        "id": "wUF9FYxwEvvQ",
        "colab": {
          "base_uri": "https://localhost:8080/"
        },
        "outputId": "9012543f-a10a-4784-878d-381fdd3ff6b6"
      },
      "source": [
        "!head -30 '/content/drive/Shareddrives/Reddit/oneday/data.json'"
      ],
      "execution_count": null,
      "outputs": [
        {
          "output_type": "stream",
          "text": [
            "head: cannot open '/content/drive/Shareddrives/Reddit/oneday/data.json' for reading: No such file or directory\n"
          ],
          "name": "stdout"
        }
      ]
    },
    {
      "cell_type": "code",
      "metadata": {
        "id": "Si5ZIcnw8wl3"
      },
      "source": [
        "filename = '/content/drive/Shareddrives/Reddit/oneday/data.json'"
      ],
      "execution_count": null,
      "outputs": []
    },
    {
      "cell_type": "code",
      "metadata": {
        "id": "jDrFtOkWqiqn"
      },
      "source": [
        "import json \n",
        "import pandas as pd\n",
        " \n",
        "\n",
        "\n",
        "raw_data = pd.read_json(filename,orient='columns')\n",
        "print(raw_data.shape)\n",
        "raw_data.head()\n",
        "\n",
        "\n",
        "\n",
        "\n",
        "\"\"\"\n",
        "d_contents = []\n",
        "while file.eof():\n",
        "  d_contents.append(file[\"subreddit\", \"subreddit_id\"])\n",
        "\n",
        "df = pd.DataFrame(data=d)\n",
        "\"\"\""
      ],
      "execution_count": null,
      "outputs": []
    },
    {
      "cell_type": "code",
      "metadata": {
        "colab": {
          "base_uri": "https://localhost:8080/",
          "height": 214
        },
        "id": "mFDEyNKY9l-y",
        "outputId": "fa5af1af-4011-4a16-edfa-9d3b7a3f6db6"
      },
      "source": [
        "file.head()"
      ],
      "execution_count": null,
      "outputs": [
        {
          "output_type": "execute_result",
          "data": {
            "text/html": [
              "<div>\n",
              "<style scoped>\n",
              "    .dataframe tbody tr th:only-of-type {\n",
              "        vertical-align: middle;\n",
              "    }\n",
              "\n",
              "    .dataframe tbody tr th {\n",
              "        vertical-align: top;\n",
              "    }\n",
              "\n",
              "    .dataframe thead th {\n",
              "        text-align: right;\n",
              "    }\n",
              "</style>\n",
              "<table border=\"1\" class=\"dataframe\">\n",
              "  <thead>\n",
              "    <tr style=\"text-align: right;\">\n",
              "      <th></th>\n",
              "      <th>Neckzilla</th>\n",
              "      <th>WWCephei</th>\n",
              "      <th>CaLiKiNG805</th>\n",
              "      <th>TabbyTheAttorney</th>\n",
              "      <th>replaytheparadox</th>\n",
              "      <th>calmhouse1</th>\n",
              "      <th>Welsh_cat_Best_cat</th>\n",
              "      <th>PatSayJack</th>\n",
              "      <th>Sainify</th>\n",
              "      <th>bitfriend2</th>\n",
              "      <th>AnthonyThomasT</th>\n",
              "      <th>AutoModerator</th>\n",
              "      <th>Bolo_Tie17</th>\n",
              "      <th>Sheev_Is_King</th>\n",
              "      <th>dalong75</th>\n",
              "      <th>Marzban1</th>\n",
              "      <th>BureaucratDog</th>\n",
              "      <th>TangyDaimyo</th>\n",
              "      <th>xoctor</th>\n",
              "      <th>A_Fascist_Walrus</th>\n",
              "      <th>RealEpicdaboost</th>\n",
              "      <th>abhijaybahati</th>\n",
              "      <th>Toshi_Nama</th>\n",
              "      <th>Danimal1999</th>\n",
              "      <th>erkster123</th>\n",
              "      <th>Roseysdaddy</th>\n",
              "      <th>Matheusj99</th>\n",
              "      <th>Logondo</th>\n",
              "      <th>kelaraja</th>\n",
              "      <th>Atmke</th>\n",
              "      <th>hereforthefreedrinks</th>\n",
              "      <th>seeking101</th>\n",
              "      <th>JohnnyDarkside</th>\n",
              "      <th>McRoyale007</th>\n",
              "      <th>NosajDraw</th>\n",
              "      <th>Count-Basie</th>\n",
              "      <th>-Medicate_Meditate-</th>\n",
              "      <th>LobsterKillah</th>\n",
              "      <th>CMDR_INTERNET</th>\n",
              "      <th>warpweftwatergate</th>\n",
              "      <th>...</th>\n",
              "      <th>misoranomegami</th>\n",
              "      <th>Joeswag204</th>\n",
              "      <th>JimothyCodswallop</th>\n",
              "      <th>Kromdore</th>\n",
              "      <th>PoisonDartDog</th>\n",
              "      <th>Delirium101</th>\n",
              "      <th>plshelpmewithpcpls</th>\n",
              "      <th>allabouteevee</th>\n",
              "      <th>PulsedMedia</th>\n",
              "      <th>IamCannafruit</th>\n",
              "      <th>headbangerJd</th>\n",
              "      <th>Goku3674</th>\n",
              "      <th>projectmate</th>\n",
              "      <th>caffein8dnotopi8d</th>\n",
              "      <th>hasabumford</th>\n",
              "      <th>procc1</th>\n",
              "      <th>Shinodacs</th>\n",
              "      <th>Jamoesk</th>\n",
              "      <th>CaptainMorgner</th>\n",
              "      <th>y0y</th>\n",
              "      <th>jongin0223</th>\n",
              "      <th>Yatess19</th>\n",
              "      <th>dazjohnson2222</th>\n",
              "      <th>epicpixelowns</th>\n",
              "      <th>ThyCaptain</th>\n",
              "      <th>Hivestrung</th>\n",
              "      <th>0FowlKreature</th>\n",
              "      <th>MD-JD</th>\n",
              "      <th>mtrtmi</th>\n",
              "      <th>nu2crypto</th>\n",
              "      <th>jihadionion</th>\n",
              "      <th>Rinjidesu</th>\n",
              "      <th>SparkzNGearz</th>\n",
              "      <th>matt134174</th>\n",
              "      <th>TusKan13</th>\n",
              "      <th>upper-echelon</th>\n",
              "      <th>A-Minor</th>\n",
              "      <th>an0nymouse123</th>\n",
              "      <th>HueFlakes</th>\n",
              "      <th>Thirtytw031</th>\n",
              "    </tr>\n",
              "  </thead>\n",
              "  <tbody>\n",
              "    <tr>\n",
              "      <th>0</th>\n",
              "      <td>{'pcgaming': 1, 'Bioshock': 2}</td>\n",
              "      <td>{'sports': 1, 'woahdude': 1, 'soccer': 9}</td>\n",
              "      <td>{'BlackPeopleTwitter': 1}</td>\n",
              "      <td>{'funny': 1, 'BlackPeopleTwitter': 3, 'fakehis...</td>\n",
              "      <td>{'wacom': 1}</td>\n",
              "      <td>{'awakened': 1}</td>\n",
              "      <td>{'Xenoblade_Chronicles': 7}</td>\n",
              "      <td>{'conspiracy': 2}</td>\n",
              "      <td>{'MemeEconomy': 1}</td>\n",
              "      <td>{'technology': 5, 'politics': 5}</td>\n",
              "      <td>{'exxxchange': 1, 'gonewild30plus': 1, 'shywif...</td>\n",
              "      <td>{'Gamebattles': 2, 'tattoos': 56, 'Rule34LoL':...</td>\n",
              "      <td>{'Chargers': 1}</td>\n",
              "      <td>{'PrequelMemes': 2, 'battlefield_one': 4, 'Mad...</td>\n",
              "      <td>{'twinpeaks': 2}</td>\n",
              "      <td>{'iran': 26}</td>\n",
              "      <td>{'LateStageCapitalism': 1, 'TheSimpsons': 1}</td>\n",
              "      <td>{'StarWars': 1}</td>\n",
              "      <td>{'australia': 1}</td>\n",
              "      <td>{'news': 7, 'syriancivilwar': 7}</td>\n",
              "      <td>{'CringeAnarchy': 1}</td>\n",
              "      <td>{'boxoffice': 8}</td>\n",
              "      <td>{'dragonage': 16}</td>\n",
              "      <td>{'49ers': 2}</td>\n",
              "      <td>{'frugalmalefashion': 1}</td>\n",
              "      <td>{'NSFW_GIF': 3, 'geek': 5}</td>\n",
              "      <td>{'FIFA': 9}</td>\n",
              "      <td>{'gaming': 1, 'funny': 1}</td>\n",
              "      <td>{'AskReddit': 1, 'funny': 3}</td>\n",
              "      <td>{'blackmirror': 1, 'milwaukee': 1, 'Watches': 1}</td>\n",
              "      <td>{'weddingplanning': 3}</td>\n",
              "      <td>{'oaklandraiders': 25, 'malefashionadvice': 1,...</td>\n",
              "      <td>{'AskReddit': 1, 'ANormalDayInRussia': 1, 'Shi...</td>\n",
              "      <td>{'survivor': 7, 'SpoiledSurvivor': 2}</td>\n",
              "      <td>{'feedthebeast': 1}</td>\n",
              "      <td>{'oaklandraiders': 8}</td>\n",
              "      <td>{'Drugs': 1}</td>\n",
              "      <td>{'trees': 1}</td>\n",
              "      <td>{'starcitizen': 1, 'apple': 1}</td>\n",
              "      <td>{'malefashion': 1}</td>\n",
              "      <td>...</td>\n",
              "      <td>{'UpliftingNews': 1}</td>\n",
              "      <td>{'playrustgroups': 1}</td>\n",
              "      <td>{'Kanye': 1}</td>\n",
              "      <td>{'videos': 2}</td>\n",
              "      <td>{'NoFap': 1}</td>\n",
              "      <td>{'Miami': 1}</td>\n",
              "      <td>{'buildapc': 1}</td>\n",
              "      <td>{'femalefashionadvice': 2}</td>\n",
              "      <td>{'Bitcoin': 2}</td>\n",
              "      <td>{'EscapefromTarkov': 2}</td>\n",
              "      <td>{'Browns': 1}</td>\n",
              "      <td>{'DBZDokkanBattle': 1}</td>\n",
              "      <td>{'yerbamate': 2}</td>\n",
              "      <td>{'confession': 1}</td>\n",
              "      <td>{'BeardedDragons': 1}</td>\n",
              "      <td>{'Bitcoin': 1}</td>\n",
              "      <td>{'pics': 2}</td>\n",
              "      <td>{'Eminem': 1}</td>\n",
              "      <td>{'personalfinance': 2}</td>\n",
              "      <td>{'Android': 4}</td>\n",
              "      <td>{'pcgaming': 1}</td>\n",
              "      <td>{'FortNiteBR': 1}</td>\n",
              "      <td>{'LiverpoolFC': 1}</td>\n",
              "      <td>{'pcmasterrace': 1}</td>\n",
              "      <td>{'TownofSalemgame': 1}</td>\n",
              "      <td>{'INJUSTICE': 2}</td>\n",
              "      <td>{'ptsd': 1}</td>\n",
              "      <td>{'boardgames': 1}</td>\n",
              "      <td>{'WWII': 1}</td>\n",
              "      <td>{'CryptoCurrency': 2}</td>\n",
              "      <td>{'Shoplifting': 1}</td>\n",
              "      <td>{'makingmoney': 1}</td>\n",
              "      <td>{'Pathfinder_RPG': 1}</td>\n",
              "      <td>{'deathgrips': 1}</td>\n",
              "      <td>{'DotA2': 1}</td>\n",
              "      <td>{'BeachCity': 1}</td>\n",
              "      <td>{'magicTCG': 1}</td>\n",
              "      <td>{'gtaglitches': 2}</td>\n",
              "      <td>{'forsen': 1}</td>\n",
              "      <td>{'cars': 1}</td>\n",
              "    </tr>\n",
              "  </tbody>\n",
              "</table>\n",
              "<p>1 rows × 195363 columns</p>\n",
              "</div>"
            ],
            "text/plain": [
              "                        Neckzilla  ...  Thirtytw031\n",
              "0  {'pcgaming': 1, 'Bioshock': 2}  ...  {'cars': 1}\n",
              "\n",
              "[1 rows x 195363 columns]"
            ]
          },
          "metadata": {
            "tags": []
          },
          "execution_count": 12
        }
      ]
    },
    {
      "cell_type": "code",
      "metadata": {
        "id": "3uN_YQBmxGnN"
      },
      "source": [
        ""
      ],
      "execution_count": null,
      "outputs": []
    }
  ]
}