{
  "nbformat": 4,
  "nbformat_minor": 0,
  "metadata": {
    "colab": {
      "name": "showcase_reddit_month.ipynb",
      "provenance": [],
      "collapsed_sections": [],
      "machine_shape": "hm"
    },
    "kernelspec": {
      "name": "python3",
      "display_name": "Python 3"
    },
    "language_info": {
      "name": "python"
    },
    "accelerator": "TPU"
  },
  "cells": [
    {
      "cell_type": "code",
      "metadata": {
        "id": "epIRSSdW8YxN",
        "colab": {
          "base_uri": "https://localhost:8080/"
        },
        "outputId": "c586e00f-7c9d-4b05-ebe5-8220df81fc5a"
      },
      "source": [
        "from google.colab import drive\n",
        "drive.mount('/content/drive')"
      ],
      "execution_count": null,
      "outputs": [
        {
          "output_type": "stream",
          "text": [
            "Mounted at /content/drive\n"
          ],
          "name": "stdout"
        }
      ]
    },
    {
      "cell_type": "code",
      "metadata": {
        "colab": {
          "base_uri": "https://localhost:8080/"
        },
        "id": "1Fn5ExATEaFa",
        "outputId": "0cddce20-a432-41f7-c207-8805b695092d"
      },
      "source": [
        "!pip install pandas\n"
      ],
      "execution_count": null,
      "outputs": [
        {
          "output_type": "stream",
          "text": [
            "Requirement already satisfied: pandas in /usr/local/lib/python3.7/dist-packages (1.1.5)\n",
            "Requirement already satisfied: numpy>=1.15.4 in /usr/local/lib/python3.7/dist-packages (from pandas) (1.19.5)\n",
            "Requirement already satisfied: pytz>=2017.2 in /usr/local/lib/python3.7/dist-packages (from pandas) (2018.9)\n",
            "Requirement already satisfied: python-dateutil>=2.7.3 in /usr/local/lib/python3.7/dist-packages (from pandas) (2.8.1)\n",
            "Requirement already satisfied: six>=1.5 in /usr/local/lib/python3.7/dist-packages (from python-dateutil>=2.7.3->pandas) (1.15.0)\n"
          ],
          "name": "stdout"
        }
      ]
    },
    {
      "cell_type": "code",
      "metadata": {
        "id": "AqGYZYJ58fZc"
      },
      "source": [
        "filename = '/content/drive/Shareddrives/Reddit/month/Dec-2019-no-adult-top-10000-4-dif-subreddits.json'"
      ],
      "execution_count": null,
      "outputs": []
    },
    {
      "cell_type": "code",
      "metadata": {
        "id": "qa-b7FbZ8cXu"
      },
      "source": [
        "import pandas as pd\n",
        "import json\n",
        "#read data in chunks of 1 million rows at a time\n",
        "\n",
        "with open(filename) as f:\n",
        "    data = pd.DataFrame(json.loads(line) for line in f)\n"
      ],
      "execution_count": null,
      "outputs": []
    },
    {
      "cell_type": "code",
      "metadata": {
        "id": "Iu0ibw92FYle"
      },
      "source": [
        ""
      ],
      "execution_count": null,
      "outputs": []
    },
    {
      "cell_type": "code",
      "metadata": {
        "colab": {
          "base_uri": "https://localhost:8080/",
          "height": 226
        },
        "id": "mOcrvvqQ13Eg",
        "outputId": "1fc7b73c-310e-4e36-e15d-edb2effa3339"
      },
      "source": [
        "data.head()"
      ],
      "execution_count": null,
      "outputs": [
        {
          "output_type": "execute_result",
          "data": {
            "text/html": [
              "<div>\n",
              "<style scoped>\n",
              "    .dataframe tbody tr th:only-of-type {\n",
              "        vertical-align: middle;\n",
              "    }\n",
              "\n",
              "    .dataframe tbody tr th {\n",
              "        vertical-align: top;\n",
              "    }\n",
              "\n",
              "    .dataframe thead th {\n",
              "        text-align: right;\n",
              "    }\n",
              "</style>\n",
              "<table border=\"1\" class=\"dataframe\">\n",
              "  <thead>\n",
              "    <tr style=\"text-align: right;\">\n",
              "      <th></th>\n",
              "      <th>ruscheinskyc</th>\n",
              "      <th>rockyp32</th>\n",
              "      <th>AmInATizzy</th>\n",
              "      <th>randomblackkiddd</th>\n",
              "      <th>GKrollin</th>\n",
              "      <th>zuccinibikini</th>\n",
              "      <th>Accountnum3billion</th>\n",
              "      <th>JohnX-ray</th>\n",
              "      <th>PsychoTexan</th>\n",
              "      <th>grandmas_funtime</th>\n",
              "      <th>victorcanfly</th>\n",
              "      <th>AutoModerator</th>\n",
              "      <th>The_One_H1T_Wonder</th>\n",
              "      <th>auamethyst</th>\n",
              "      <th>brokenarrow</th>\n",
              "      <th>elitist_ferret</th>\n",
              "      <th>CrackedOutGoose</th>\n",
              "      <th>mikebryn</th>\n",
              "      <th>Wet-Macaroni</th>\n",
              "      <th>bendstraw</th>\n",
              "      <th>nurley</th>\n",
              "      <th>archlinuxisalright</th>\n",
              "      <th>TheInternetPolice2</th>\n",
              "      <th>Immrspy</th>\n",
              "      <th>neremarine</th>\n",
              "      <th>Amargosamountain</th>\n",
              "      <th>Dorito_Dragon</th>\n",
              "      <th>GoBuffaloes</th>\n",
              "      <th>jaboi1080p</th>\n",
              "      <th>dylan2451</th>\n",
              "      <th>elkstwit</th>\n",
              "      <th>gisellasaurus</th>\n",
              "      <th>ahumanshambles</th>\n",
              "      <th>robberbaronBaby</th>\n",
              "      <th>Iorith</th>\n",
              "      <th>tujuggernaut</th>\n",
              "      <th>gtickno2</th>\n",
              "      <th>KittKattKait</th>\n",
              "      <th>BidoofTheGod</th>\n",
              "      <th>Cthulhuseye</th>\n",
              "      <th>...</th>\n",
              "      <th>IronGoddess_RS</th>\n",
              "      <th>competitive-dust</th>\n",
              "      <th>Lillianeck</th>\n",
              "      <th>captain-burrito</th>\n",
              "      <th>mdduser728</th>\n",
              "      <th>monkwillpower</th>\n",
              "      <th>daddysalad</th>\n",
              "      <th>cmrncstn1</th>\n",
              "      <th>I_Hate_Your_gutzzz</th>\n",
              "      <th>ZatoKatzke</th>\n",
              "      <th>PhilTheBiker</th>\n",
              "      <th>itsgordon</th>\n",
              "      <th>PurpleEngineer</th>\n",
              "      <th>abyymartell</th>\n",
              "      <th>TilikumBB</th>\n",
              "      <th>talkbackgetsmack</th>\n",
              "      <th>Lovenevershuns</th>\n",
              "      <th>therewasacatwizard</th>\n",
              "      <th>beyond_gone_brb</th>\n",
              "      <th>Cheesecakeius</th>\n",
              "      <th>alexvirgo13</th>\n",
              "      <th>7wouldntyouknow7</th>\n",
              "      <th>Thinkingofm</th>\n",
              "      <th>Brandonkaimusic</th>\n",
              "      <th>sad_s0ng</th>\n",
              "      <th>Shotcoplifting666</th>\n",
              "      <th>rpkittkattkitten</th>\n",
              "      <th>chugginmilk</th>\n",
              "      <th>seimc</th>\n",
              "      <th>_Pottatis</th>\n",
              "      <th>tatertot669</th>\n",
              "      <th>mrmrstaylor</th>\n",
              "      <th>Clum5y_BE</th>\n",
              "      <th>thizzy85</th>\n",
              "      <th>Ezekiel_Blufur</th>\n",
              "      <th>ruchimac6</th>\n",
              "      <th>choccy_M1Lk</th>\n",
              "      <th>TraubeOhneZucker</th>\n",
              "      <th>Ph1l1pp1us</th>\n",
              "      <th>madajurado</th>\n",
              "    </tr>\n",
              "  </thead>\n",
              "  <tbody>\n",
              "    <tr>\n",
              "      <th>0</th>\n",
              "      <td>{'Bad_Cop_No_Donut': 2, 'DontFundMe': 2, 'brit...</td>\n",
              "      <td>{'Naruto': 1, 'asktrp': 3, 'Semenretention': 2...</td>\n",
              "      <td>{'britishproblems': 9, 'JUSTNOMIL': 5, 'TheSil...</td>\n",
              "      <td>{'unpopularopinion': 27, 'atheism': 7, 'Rateme...</td>\n",
              "      <td>{'Connecticut': 7, 'BikiniBottomTwitter': 2, '...</td>\n",
              "      <td>{'wholesomememes': 2, 'psychedelicrock': 9, 'n...</td>\n",
              "      <td>{'DuelLinks': 1, 'ConsumeProduct': 14, 'stupid...</td>\n",
              "      <td>{'sweden': 1, 'ChoosingBeggars': 1, 'Technobla...</td>\n",
              "      <td>{'TankPorn': 18, 'blursedimages': 25, 'CrappyD...</td>\n",
              "      <td>{'Makeup': 4, 'russia': 1, 'astrology': 7, 'Hy...</td>\n",
              "      <td>{'Watchmen': 36, 'fo76': 5, 'Fallout': 1, 'fo7...</td>\n",
              "      <td>{'PoliticalHumor': 408, 'pokemontrades': 31108...</td>\n",
              "      <td>{'starterpacks': 2, 'Nicegirls': 3, 'gatekeepi...</td>\n",
              "      <td>{'vegan': 4, 'fuckeatingdisorders': 20, 'antiM...</td>\n",
              "      <td>{'baseball': 1, 'politics': 12, 'orlando': 1, ...</td>\n",
              "      <td>{'bestoflegaladvice': 97, 'criticalrole': 5, '...</td>\n",
              "      <td>{'fantasyfootball': 1, 'DenverBroncos': 3, 'Fo...</td>\n",
              "      <td>{'shittytechnicals': 5, 'justdependathings': 4...</td>\n",
              "      <td>{'teenagers': 109, 'AquaticAsFuck': 1, 'unpopu...</td>\n",
              "      <td>{'FIFA': 61, 'ProgrammerHumor': 1, 'StarWars':...</td>\n",
              "      <td>{'RocketLeagueEsports': 40, 'politics': 1, 'Ro...</td>\n",
              "      <td>{'changemyview': 21, 'politics': 51, 'TopMinds...</td>\n",
              "      <td>{'DankMemesFromSite19': 5, 'dogelore': 5, 'Wat...</td>\n",
              "      <td>{'Shitstatistssay': 4, 'Justrolledintotheshop'...</td>\n",
              "      <td>{'SequelMemes': 2, 'pcmasterrace': 5, 'animeme...</td>\n",
              "      <td>{'TheoryOfReddit': 9, 'HotWheels': 12, 'arrest...</td>\n",
              "      <td>{'PewdiepieSubmissions': 2, 'funkopop': 9, 'dr...</td>\n",
              "      <td>{'toptalent': 1, 'fantasyfootball': 10, 'White...</td>\n",
              "      <td>{'space': 2, 'rickandmorty': 10, 'SiliconValle...</td>\n",
              "      <td>{'ProgrammerHumor': 1, 'ShinyPokemon': 9, 'CRe...</td>\n",
              "      <td>{'editors': 3, 'MovieDetails': 1, 'Gunners': 8...</td>\n",
              "      <td>{'MakeupAddictionCanada': 2, 'AmItheAsshole': ...</td>\n",
              "      <td>{'australia': 1, 'femalefashionadvice': 1, 'sy...</td>\n",
              "      <td>{'CapitalismVSocialism': 14, 'FreeSpeech': 2, ...</td>\n",
              "      <td>{'GetMotivated': 2, 'BlackPeopleTwitter': 20, ...</td>\n",
              "      <td>{'F1Technical': 16, 'TechnoProduction': 6, 'mo...</td>\n",
              "      <td>{'Asexual': 5, 'HazbinHotel': 79, 'asexuality'...</td>\n",
              "      <td>{'BeautyBoxes': 2, 'MakeupAddiction': 1, 'MUAo...</td>\n",
              "      <td>{'fantasyfootball': 53, 'hiphopheads': 4, 'mil...</td>\n",
              "      <td>{'LeopardsAteMyFace': 10, 'boomershumor': 1, '...</td>\n",
              "      <td>...</td>\n",
              "      <td>{'DrawForMe': 2, 'cuddleroll': 1, 'MergeDragon...</td>\n",
              "      <td>{'coolguides': 1, 'lotr': 2, 'TIHI': 1, 'marve...</td>\n",
              "      <td>{'insaneparents': 1, 'im14andthisisdeep': 1, '...</td>\n",
              "      <td>{'chinesefood': 1, 'unitedkingdom': 17, 'askga...</td>\n",
              "      <td>{'TrueOffMyChest': 7, 'amiugly': 1, 'LongDista...</td>\n",
              "      <td>{'depression': 9, 'getdisciplined': 1, 'nosurf...</td>\n",
              "      <td>{'PewdiepieSubmissions': 1, 'MovieDetails': 2,...</td>\n",
              "      <td>{'CrappyDesign': 1, 'FixedGearBicycle': 1, 'ri...</td>\n",
              "      <td>{'WatchPeopleDieInside': 41, 'Cringetopia': 1,...</td>\n",
              "      <td>{'JustBootThings': 8, 'ACQR': 3, 'battlefield_...</td>\n",
              "      <td>{'Conservative': 1, 'pittsburgh': 1, 'WhitePeo...</td>\n",
              "      <td>{'lyftdrivers': 2, 'gmod': 1, 'medical': 3, 'p...</td>\n",
              "      <td>{'AmItheAsshole': 10, '90DayFiance': 2, 'Dunde...</td>\n",
              "      <td>{'DesignMyRoom': 1, 'AmateurRoomPorn': 1, 'mal...</td>\n",
              "      <td>{'TikTokCringe': 1, 'ClimbingCircleJerk': 1, '...</td>\n",
              "      <td>{'RiseofKingdoms': 8, 'AustralianPolitics': 1,...</td>\n",
              "      <td>{'bipolar2': 2, 'exjw': 1, 'depression': 2, 'A...</td>\n",
              "      <td>{'dankmemes': 4, 'cursedcomments': 1, 'memes':...</td>\n",
              "      <td>{'PublicFreakout': 1, 'awfuleverything': 1, 'm...</td>\n",
              "      <td>{'assholedesign': 1, 'teenagers': 7, 'pcmaster...</td>\n",
              "      <td>{'memes': 1, 'deadbydaylight': 4, 'FellowKids'...</td>\n",
              "      <td>{'meth': 3, 'Drugs': 4, 'Petioles': 1, 'drawin...</td>\n",
              "      <td>{'YangForPresidentHQ': 1, 'Tinder': 1, 'TheMar...</td>\n",
              "      <td>{'spotify': 11, 'SpotifyPlaylists': 2, 'Liftin...</td>\n",
              "      <td>{'Shitty_Car_Mods': 1, 'india': 1, 'IdiotsInCa...</td>\n",
              "      <td>{'Stims': 19, 'researchchemicals': 4, 'Drugs':...</td>\n",
              "      <td>{'GuiltyPleasureMusic': 4, 'disney': 2, 'greys...</td>\n",
              "      <td>{'buildapc': 3, 'overclocking': 1, 'personalfi...</td>\n",
              "      <td>{'cars': 1, 'HydroHomies': 4, 'Porsche': 2, 'H...</td>\n",
              "      <td>{'memes': 3, 'pcmasterrace': 4, 'Tinder': 3, '...</td>\n",
              "      <td>{'memes': 5, 'dankmemes': 6, 'cursedcomments':...</td>\n",
              "      <td>{'Wellthatsucks': 2, 'shockwaveporn': 1, 'mech...</td>\n",
              "      <td>{'extremelyinfuriating': 3, 'AskMen': 1, 'meme...</td>\n",
              "      <td>{'im14andthisisdeep': 1, 'facepalm': 5, 'progu...</td>\n",
              "      <td>{'furry_irl': 1, 'RocketLeague': 1, 'teenagers...</td>\n",
              "      <td>{'camping': 1, 'Sneakers': 1, 'memes': 3, 'ind...</td>\n",
              "      <td>{'GuitarAmps': 1, 'shittyfoodporn': 1, 'Public...</td>\n",
              "      <td>{'2meirl4meirl': 2, 'facepalm': 1, 'Cursed_Ima...</td>\n",
              "      <td>{'PewdiepieSubmissions': 2, 'HistoryMemes': 1,...</td>\n",
              "      <td>{'environment': 1, 'ireland': 2, 'lgbt': 1, 'U...</td>\n",
              "    </tr>\n",
              "  </tbody>\n",
              "</table>\n",
              "<p>1 rows × 373282 columns</p>\n",
              "</div>"
            ],
            "text/plain": [
              "                                        ruscheinskyc  ...                                         madajurado\n",
              "0  {'Bad_Cop_No_Donut': 2, 'DontFundMe': 2, 'brit...  ...  {'environment': 1, 'ireland': 2, 'lgbt': 1, 'U...\n",
              "\n",
              "[1 rows x 373282 columns]"
            ]
          },
          "metadata": {
            "tags": []
          },
          "execution_count": 8
        }
      ]
    },
    {
      "cell_type": "code",
      "metadata": {
        "id": "Ca8p2RVwH12O"
      },
      "source": [
        "new_data = data.T"
      ],
      "execution_count": null,
      "outputs": []
    },
    {
      "cell_type": "code",
      "metadata": {
        "colab": {
          "base_uri": "https://localhost:8080/",
          "height": 195
        },
        "id": "6afkZPKdH53n",
        "outputId": "9e0681f2-9484-40e7-a11c-3b8d5a41c842"
      },
      "source": [
        "new_data.head()"
      ],
      "execution_count": null,
      "outputs": [
        {
          "output_type": "execute_result",
          "data": {
            "text/html": [
              "<div>\n",
              "<style scoped>\n",
              "    .dataframe tbody tr th:only-of-type {\n",
              "        vertical-align: middle;\n",
              "    }\n",
              "\n",
              "    .dataframe tbody tr th {\n",
              "        vertical-align: top;\n",
              "    }\n",
              "\n",
              "    .dataframe thead th {\n",
              "        text-align: right;\n",
              "    }\n",
              "</style>\n",
              "<table border=\"1\" class=\"dataframe\">\n",
              "  <thead>\n",
              "    <tr style=\"text-align: right;\">\n",
              "      <th></th>\n",
              "      <th>0</th>\n",
              "    </tr>\n",
              "  </thead>\n",
              "  <tbody>\n",
              "    <tr>\n",
              "      <th>ruscheinskyc</th>\n",
              "      <td>{'Bad_Cop_No_Donut': 2, 'DontFundMe': 2, 'brit...</td>\n",
              "    </tr>\n",
              "    <tr>\n",
              "      <th>rockyp32</th>\n",
              "      <td>{'Naruto': 1, 'asktrp': 3, 'Semenretention': 2...</td>\n",
              "    </tr>\n",
              "    <tr>\n",
              "      <th>AmInATizzy</th>\n",
              "      <td>{'britishproblems': 9, 'JUSTNOMIL': 5, 'TheSil...</td>\n",
              "    </tr>\n",
              "    <tr>\n",
              "      <th>randomblackkiddd</th>\n",
              "      <td>{'unpopularopinion': 27, 'atheism': 7, 'Rateme...</td>\n",
              "    </tr>\n",
              "    <tr>\n",
              "      <th>GKrollin</th>\n",
              "      <td>{'Connecticut': 7, 'BikiniBottomTwitter': 2, '...</td>\n",
              "    </tr>\n",
              "  </tbody>\n",
              "</table>\n",
              "</div>"
            ],
            "text/plain": [
              "                                                                  0\n",
              "ruscheinskyc      {'Bad_Cop_No_Donut': 2, 'DontFundMe': 2, 'brit...\n",
              "rockyp32          {'Naruto': 1, 'asktrp': 3, 'Semenretention': 2...\n",
              "AmInATizzy        {'britishproblems': 9, 'JUSTNOMIL': 5, 'TheSil...\n",
              "randomblackkiddd  {'unpopularopinion': 27, 'atheism': 7, 'Rateme...\n",
              "GKrollin          {'Connecticut': 7, 'BikiniBottomTwitter': 2, '..."
            ]
          },
          "metadata": {
            "tags": []
          },
          "execution_count": 10
        }
      ]
    },
    {
      "cell_type": "code",
      "metadata": {
        "colab": {
          "base_uri": "https://localhost:8080/",
          "height": 35
        },
        "id": "yOHRtsBwKLZs",
        "outputId": "8bc9c7ab-d912-48f9-b3c5-f142880ff638"
      },
      "source": [
        "n = 2000\n",
        "list_df = [new_data[i:i+n] for i in range(0,new_data.shape[0],n)]\n",
        "matrix_df = pd.DataFrame()\n",
        "\"\"\"\n",
        "n = 1000\n",
        "\n",
        "rem = new_data.shape[0]%n\n",
        "for i in range(0,new_data.shape[0],n):\n",
        "  pd.json_normalize(new_data[i:i+n])\n",
        "\"\"\""
      ],
      "execution_count": null,
      "outputs": [
        {
          "output_type": "execute_result",
          "data": {
            "application/vnd.google.colaboratory.intrinsic+json": {
              "type": "string"
            },
            "text/plain": [
              "'\\nn = 1000\\n\\nrem = new_data.shape[0]%n\\nfor i in range(0,new_data.shape[0],n):\\n  pd.json_normalize(new_data[i:i+n])\\n'"
            ]
          },
          "metadata": {
            "tags": []
          },
          "execution_count": 90
        }
      ]
    },
    {
      "cell_type": "code",
      "metadata": {
        "colab": {
          "base_uri": "https://localhost:8080/"
        },
        "id": "C_0nUsAkKFA_",
        "outputId": "20ffee27-cc6a-4f2f-be78-629c56d9c2ec"
      },
      "source": [
        "for i,chunk in enumerate(list_df):\n",
        "  print(str(i) + ' chunk done')\n",
        "  list_df[i]=pd.json_normalize(chunk[0])\n",
        "  if(i==0):\n",
        "    break\n",
        "  "
      ],
      "execution_count": null,
      "outputs": [
        {
          "output_type": "stream",
          "text": [
            "0 chunk done\n"
          ],
          "name": "stdout"
        }
      ]
    },
    {
      "cell_type": "code",
      "metadata": {
        "id": "A4f1hS382ZHz"
      },
      "source": [
        "#list_df[0].to_csv (r'/content/drive/Shareddrives/Reddit/batch0.csv', index = True, header=True)"
      ],
      "execution_count": null,
      "outputs": []
    },
    {
      "cell_type": "code",
      "metadata": {
        "id": "Pv6mrJ8Ue7LD"
      },
      "source": [
        "matrix_df = list_df[0]"
      ],
      "execution_count": null,
      "outputs": []
    },
    {
      "cell_type": "code",
      "metadata": {
        "colab": {
          "base_uri": "https://localhost:8080/"
        },
        "id": "9FrA1yV0J6dz",
        "outputId": "bfa7111f-bd5a-4c16-bec8-085f17a05c7f"
      },
      "source": [
        "print(matrix_df.head)"
      ],
      "execution_count": null,
      "outputs": [
        {
          "output_type": "stream",
          "text": [
            "<bound method NDFrame.head of       Bad_Cop_No_Donut  DontFundMe  ...  Hatfilms  chemhelp\n",
            "0                  2.0         2.0  ...       NaN       NaN\n",
            "1                  NaN         NaN  ...       NaN       NaN\n",
            "2                  NaN         NaN  ...       NaN       NaN\n",
            "3                  NaN         NaN  ...       NaN       NaN\n",
            "4                  NaN         NaN  ...       NaN       NaN\n",
            "...                ...         ...  ...       ...       ...\n",
            "1995               NaN         NaN  ...       NaN       NaN\n",
            "1996               NaN         NaN  ...       NaN       NaN\n",
            "1997               NaN         NaN  ...       NaN       NaN\n",
            "1998               NaN         NaN  ...       NaN       NaN\n",
            "1999               NaN         NaN  ...       NaN       NaN\n",
            "\n",
            "[2000 rows x 5731 columns]>\n"
          ],
          "name": "stdout"
        }
      ]
    },
    {
      "cell_type": "code",
      "metadata": {
        "id": "_vtOIEgFvTxP"
      },
      "source": [
        "import numpy as np\n",
        "\n",
        "train_index = np.random.random(len(matrix_df)) <= 0.7\n",
        "train_df = matrix_df[train_index]\n",
        "test_df = matrix_df[~train_index]"
      ],
      "execution_count": null,
      "outputs": []
    },
    {
      "cell_type": "code",
      "metadata": {
        "colab": {
          "base_uri": "https://localhost:8080/"
        },
        "id": "onr4N5nn0M43",
        "outputId": "f3093ff7-4d32-4aae-ec8a-018250e5f63b"
      },
      "source": [
        "print(train_df.head())\n",
        "\n",
        "print(test_df.head())"
      ],
      "execution_count": null,
      "outputs": [
        {
          "output_type": "stream",
          "text": [
            "   Bad_Cop_No_Donut  DontFundMe  ...  Hatfilms  chemhelp\n",
            "3               NaN         NaN  ...       NaN       NaN\n",
            "6               NaN         NaN  ...       NaN       NaN\n",
            "7               NaN         NaN  ...       NaN       NaN\n",
            "8               NaN         NaN  ...       NaN       NaN\n",
            "9               NaN         NaN  ...       NaN       NaN\n",
            "\n",
            "[5 rows x 5731 columns]\n",
            "   Bad_Cop_No_Donut  DontFundMe  ...  Hatfilms  chemhelp\n",
            "0               2.0         2.0  ...       NaN       NaN\n",
            "1               NaN         NaN  ...       NaN       NaN\n",
            "2               NaN         NaN  ...       NaN       NaN\n",
            "4               NaN         NaN  ...       NaN       NaN\n",
            "5               NaN         NaN  ...       NaN       NaN\n",
            "\n",
            "[5 rows x 5731 columns]\n"
          ],
          "name": "stdout"
        }
      ]
    },
    {
      "cell_type": "code",
      "metadata": {
        "colab": {
          "base_uri": "https://localhost:8080/"
        },
        "id": "ifK2-fVoMrYQ",
        "outputId": "d0fca70b-0a77-4759-8e86-40c196f702d8"
      },
      "source": [
        "train_df.fillna(0)\n",
        "subreddits = train_df.columns\n",
        "print(subreddits)\n",
        "train_mat = train_df.to_numpy()\n",
        "print(train_mat)"
      ],
      "execution_count": null,
      "outputs": [
        {
          "output_type": "stream",
          "text": [
            "Index(['Bad_Cop_No_Donut', 'DontFundMe', 'britishproblems', 'PrequelMemes',\n",
            "       'politics', 'quityourbullshit', 'Cringetopia', 'freefolk', 'trashy',\n",
            "       'comedynecromancy',\n",
            "       ...\n",
            "       '32dollars', 'catswhotrill', 'PointlessStories', 'Homesteading',\n",
            "       'youtubetv', 'badassanimals', 'DamnNatureYouScary', 'whatcarshouldIbuy',\n",
            "       'Hatfilms', 'chemhelp'],\n",
            "      dtype='object', length=5731)\n",
            "[[nan nan nan ... nan nan nan]\n",
            " [nan nan nan ... nan nan nan]\n",
            " [nan nan nan ... nan nan nan]\n",
            " ...\n",
            " [nan nan nan ... nan nan nan]\n",
            " [nan nan nan ... nan nan nan]\n",
            " [nan nan nan ... nan nan nan]]\n"
          ],
          "name": "stdout"
        }
      ]
    },
    {
      "cell_type": "code",
      "metadata": {
        "id": "nOzohZARQ4Gi"
      },
      "source": [
        "prediction_mat = np.ones_like(train_mat)\n"
      ],
      "execution_count": null,
      "outputs": []
    },
    {
      "cell_type": "code",
      "metadata": {
        "id": "VlB0HhCSO1eI"
      },
      "source": [
        "\n",
        "user_train_like = []\n",
        "for u in range(len(train_mat)):\n",
        "    user_train_like.append(np.where(train_mat[u, :] > 0)[0])\n",
        "\n",
        "numer = np.matmul(train_mat, train_mat.T)\n",
        "denom = np.sum(train_mat ** 2, axis=1, keepdims=True) ** 0.5\n",
        "Cosine = numer / np.matmul(denom, denom.T)\n",
        "\n",
        "recommendation = []\n",
        "for u in range(len(train_mat)):\n",
        "    similarities = Cosine[u, :]\n",
        "    similarities[u] = -1\n",
        "    N_idx = np.argpartition(similarities, -5)[-5:]\n",
        "    N_sim = similarities[N_idx]\n",
        "    scores = np.sum(N_sim.reshape((-1, 1)) * train_mat[N_idx, :], axis=0) / np.sum(N_sim)\n",
        "    \n",
        "    train_like = user_train_like[u]\n",
        "    scores[train_like] = -9999\n",
        "    top50_iid = np.argpartition(scores, -5)[-5:]\n",
        "    top50_iid = top50_iid[np.argsort(scores[top50_iid])[-1::-1]]\n",
        "    recommendation.append(top50_iid)\n",
        "recommendation = np.array(recommendation)"
      ],
      "execution_count": null,
      "outputs": []
    },
    {
      "cell_type": "code",
      "metadata": {
        "colab": {
          "base_uri": "https://localhost:8080/"
        },
        "id": "N63tIlP1a_V-",
        "outputId": "7b09aa7f-dc72-41b8-b3a3-5fcbfa04f6b5"
      },
      "source": [
        "print(recommendation)"
      ],
      "execution_count": null,
      "outputs": [
        {
          "output_type": "stream",
          "text": [
            "[[5730 1914 1915 1913 1911]\n",
            " [5730 1915 1916 1914 1912]\n",
            " [5730 1915 1916 1914 1912]\n",
            " ...\n",
            " [5730 1912 1913 1911 1909]\n",
            " [5730 1912 1913 1911 1909]\n",
            " [5730 1914 1915 1913 1911]]\n"
          ],
          "name": "stdout"
        }
      ]
    },
    {
      "cell_type": "code",
      "metadata": {
        "colab": {
          "base_uri": "https://localhost:8080/"
        },
        "id": "Hig4OlYYPs2R",
        "outputId": "d0a2c8ae-e92c-49ea-8def-c2a20f5e1aa9"
      },
      "source": [
        "#Comments made by the user in question\n",
        "print(new_data[0][1016])\n",
        "#Recommendations by subreddit ID\n",
        "print(recommendation[1016], '\\n')\n",
        "\n",
        "#Prints recommended subreddits by name\n",
        "for i in recommendation[1016]:\n",
        " print(subreddits[i])"
      ],
      "execution_count": null,
      "outputs": [
        {
          "output_type": "stream",
          "text": [
            "{'Random_Acts_Of_Amazon': 27, 'SantasLittleHelpers': 14, 'relationships': 1, 'MakeupAddiction': 3, 'Anticonsumption': 1, 'intermittentfasting': 1, 'happy': 4, 'relationship_advice': 3, 'Assistance': 6, 'Entrepreneur': 1, 'CasualConversation': 1, 'NarcissisticAbuse': 3, 'raisedbyborderlines': 1, 'ZeroWaste': 1, 'addiction': 1, 'Visiblemending': 1, 'RandomActsofCards': 2}\n",
            "[5730 1919 1920 1918 1916] \n",
            "\n",
            "chemhelp\n",
            "MakeupRehab\n",
            "Lyft\n",
            "Boise\n",
            "homeautomation\n"
          ],
          "name": "stdout"
        }
      ]
    },
    {
      "cell_type": "code",
      "metadata": {
        "id": "ItUIpK5v3n9U"
      },
      "source": [
        ""
      ],
      "execution_count": null,
      "outputs": []
    }
  ]
}